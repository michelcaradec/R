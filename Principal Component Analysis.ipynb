{
 "cells": [
  {
   "cell_type": "markdown",
   "metadata": {},
   "source": [
    "# Principal Component Analysis\n",
    "## Basics\n",
    "http://www.sthda.com/english/wiki/principal-component-analysis-the-basics-you-should-read-r-software-and-data-mining\n",
    "### Covariance\n",
    "**Variance** of x $\\sigma ^{ 2 }_{ xx }=\\frac { \\sum _{ i=1 }^{ n }{ (x_{ i }-\\mu _{ x })^{ 2 } }  }{ n-1 }$\n",
    "\n",
    "**Covariance** of x and y $\\sigma ^{ 2 }_{ xy }=\\frac { \\sum _{ i=1 }^{ n }{ (x_{ i }-\\mu _{ x })(y_{ i }-\\mu _{ y }) }  }{ n-1 }$\n",
    "\n",
    "The covariance measures the degree of the relationship between x and y.\n",
    "\n",
    "### Covariance matrix\n",
    "A covariance matrix (also called **correlation matrix**) contains the covariances between all possible pairs of variables in the data set."
   ]
  },
  {
   "cell_type": "code",
   "execution_count": 33,
   "metadata": {
    "collapsed": false
   },
   "outputs": [
    {
     "data": {
      "text/html": [
       "<table>\n",
       "<thead><tr><th></th><th scope=col>Sepal.Length</th><th scope=col>Sepal.Width</th><th scope=col>Petal.Length</th><th scope=col>Petal.Width</th></tr></thead>\n",
       "<tbody>\n",
       "\t<tr><th scope=row>Sepal.Length</th><td> 0.69</td><td>-0.04</td><td> 1.27</td><td> 0.52</td></tr>\n",
       "\t<tr><th scope=row>Sepal.Width</th><td>-0.04</td><td> 0.19</td><td>-0.33</td><td>-0.12</td></tr>\n",
       "\t<tr><th scope=row>Petal.Length</th><td> 1.27</td><td>-0.33</td><td> 3.12</td><td> 1.30</td></tr>\n",
       "\t<tr><th scope=row>Petal.Width</th><td> 0.52</td><td>-0.12</td><td> 1.30</td><td> 0.58</td></tr>\n",
       "</tbody>\n",
       "</table>\n"
      ],
      "text/latex": [
       "\\begin{tabular}{r|llll}\n",
       "  & Sepal.Length & Sepal.Width & Petal.Length & Petal.Width\\\\\n",
       "\\hline\n",
       "\tSepal.Length &  0.69 & -0.04 &  1.27 &  0.52\\\\\n",
       "\tSepal.Width & -0.04 &  0.19 & -0.33 & -0.12\\\\\n",
       "\tPetal.Length &  1.27 & -0.33 &  3.12 &  1.30\\\\\n",
       "\tPetal.Width &  0.52 & -0.12 &  1.30 &  0.58\\\\\n",
       "\\end{tabular}\n"
      ],
      "text/markdown": [
       "1. 0.69\n",
       "2. -0.04\n",
       "3. 1.27\n",
       "4. 0.52\n",
       "5. -0.04\n",
       "6. 0.19\n",
       "7. -0.33\n",
       "8. -0.12\n",
       "9. 1.27\n",
       "10. -0.33\n",
       "11. 3.12\n",
       "12. 1.3\n",
       "13. 0.52\n",
       "14. -0.12\n",
       "15. 1.3\n",
       "16. 0.58\n",
       "\n",
       "\n"
      ],
      "text/plain": [
       "             Sepal.Length Sepal.Width Petal.Length Petal.Width\n",
       "Sepal.Length         0.69       -0.04         1.27        0.52\n",
       "Sepal.Width         -0.04        0.19        -0.33       -0.12\n",
       "Petal.Length         1.27       -0.33         3.12        1.30\n",
       "Petal.Width          0.52       -0.12         1.30        0.58"
      ]
     },
     "execution_count": 33,
     "metadata": {},
     "output_type": "execute_result"
    }
   ],
   "source": [
    "df <- iris[, -5]\n",
    "(res.cov <- round(cov(df), 2))"
   ]
  },
  {
   "cell_type": "markdown",
   "metadata": {},
   "source": [
    "*Covariance matrix is symmetrix : cov(x, y) = cov(y, x)*\n",
    "\n",
    "The **diagonal** elements are the variances of the different variables."
   ]
  },
  {
   "cell_type": "code",
   "execution_count": 34,
   "metadata": {
    "collapsed": false
   },
   "outputs": [
    {
     "data": {
      "text/html": [
       "<dl class=dl-horizontal>\n",
       "\t<dt>Sepal.Length</dt>\n",
       "\t\t<dd>0.69</dd>\n",
       "\t<dt>Sepal.Width</dt>\n",
       "\t\t<dd>0.19</dd>\n",
       "\t<dt>Petal.Length</dt>\n",
       "\t\t<dd>3.12</dd>\n",
       "\t<dt>Petal.Width</dt>\n",
       "\t\t<dd>0.58</dd>\n",
       "</dl>\n"
      ],
      "text/latex": [
       "\\begin{description*}\n",
       "\\item[Sepal.Length] 0.69\n",
       "\\item[Sepal.Width] 0.19\n",
       "\\item[Petal.Length] 3.12\n",
       "\\item[Petal.Width] 0.58\n",
       "\\end{description*}\n"
      ],
      "text/markdown": [
       "Sepal.Length\n",
       ":   0.69Sepal.Width\n",
       ":   0.19Petal.Length\n",
       ":   3.12Petal.Width\n",
       ":   0.58\n",
       "\n"
      ],
      "text/plain": [
       "Sepal.Length  Sepal.Width Petal.Length  Petal.Width \n",
       "        0.69         0.19         3.12         0.58 "
      ]
     },
     "execution_count": 34,
     "metadata": {},
     "output_type": "execute_result"
    }
   ],
   "source": [
    "diag(res.cov)"
   ]
  },
  {
   "cell_type": "markdown",
   "metadata": {},
   "source": [
    "The **off-diagonal** values are the covariances between variables."
   ]
  },
  {
   "cell_type": "code",
   "execution_count": 35,
   "metadata": {
    "collapsed": false
   },
   "outputs": [
    {
     "data": {
      "text/html": [
       "<table>\n",
       "<thead><tr><th></th><th scope=col>Sepal.Length</th><th scope=col>Sepal.Width</th><th scope=col>Petal.Length</th><th scope=col>Petal.Width</th></tr></thead>\n",
       "<tbody>\n",
       "\t<tr><th scope=row>Sepal.Length</th><td>NA</td><td>NA</td><td>NA</td><td>NA</td></tr>\n",
       "\t<tr><th scope=row>Sepal.Width</th><td>-0.04</td><td>   NA</td><td>   NA</td><td>   NA</td></tr>\n",
       "\t<tr><th scope=row>Petal.Length</th><td> 1.27</td><td>-0.33</td><td>   NA</td><td>   NA</td></tr>\n",
       "\t<tr><th scope=row>Petal.Width</th><td> 0.52</td><td>-0.12</td><td> 1.30</td><td>   NA</td></tr>\n",
       "</tbody>\n",
       "</table>\n"
      ],
      "text/latex": [
       "\\begin{tabular}{r|llll}\n",
       "  & Sepal.Length & Sepal.Width & Petal.Length & Petal.Width\\\\\n",
       "\\hline\n",
       "\tSepal.Length & NA & NA & NA & NA\\\\\n",
       "\tSepal.Width & -0.04 &    NA &    NA &    NA\\\\\n",
       "\tPetal.Length &  1.27 & -0.33 &    NA &    NA\\\\\n",
       "\tPetal.Width &  0.52 & -0.12 &  1.30 &    NA\\\\\n",
       "\\end{tabular}\n"
      ],
      "text/markdown": [
       "1. NA\n",
       "2. -0.04\n",
       "3. 1.27\n",
       "4. 0.52\n",
       "5. NA\n",
       "6. NA\n",
       "7. -0.33\n",
       "8. -0.12\n",
       "9. NA\n",
       "10. NA\n",
       "11. NA\n",
       "12. 1.3\n",
       "13. NA\n",
       "14. NA\n",
       "15. NA\n",
       "16. NA\n",
       "\n",
       "\n"
      ],
      "text/plain": [
       "             Sepal.Length Sepal.Width Petal.Length Petal.Width\n",
       "Sepal.Length           NA          NA           NA          NA\n",
       "Sepal.Width         -0.04          NA           NA          NA\n",
       "Petal.Length         1.27       -0.33           NA          NA\n",
       "Petal.Width          0.52       -0.12          1.3          NA"
      ]
     },
     "execution_count": 35,
     "metadata": {},
     "output_type": "execute_result"
    }
   ],
   "source": [
    "res.cov.off <- round(outer(1:nrow(res.cov), 1:nrow(res.cov), FUN = Vectorize(function(y, x) { ifelse(y > x, res.cov[y, x] , NA) })), 2)\n",
    "dimnames(res.cov.off) <- dimnames(res.cov)\n",
    "res.cov.off"
   ]
  },
  {
   "cell_type": "markdown",
   "metadata": {},
   "source": [
    "They reflect **distortions** in the data (noise, redundancy, ...).\n",
    "\n",
    "Values different from zero indicate the presence of **redundancy** in the data, i.e. there is a certain amount of **correlation** between variables.\n",
    "\n",
    "### Minimize distorsion\n",
    "\n",
    "Covariance matrix is a **non-diagonal matrix** (its off-diagonal value are different from zero).\n",
    "\n",
    "A diagonal matrix:"
   ]
  },
  {
   "cell_type": "code",
   "execution_count": 36,
   "metadata": {
    "collapsed": false
   },
   "outputs": [
    {
     "data": {
      "text/html": [
       "<table>\n",
       "<thead><tr><th></th><th scope=col>Sepal.Length</th><th scope=col>Sepal.Width</th><th scope=col>Petal.Length</th><th scope=col>Petal.Width</th></tr></thead>\n",
       "<tbody>\n",
       "\t<tr><th scope=row>Sepal.Length</th><td>1</td><td>0</td><td>0</td><td>0</td></tr>\n",
       "\t<tr><th scope=row>Sepal.Width</th><td>0</td><td>1</td><td>0</td><td>0</td></tr>\n",
       "\t<tr><th scope=row>Petal.Length</th><td>0</td><td>0</td><td>1</td><td>0</td></tr>\n",
       "\t<tr><th scope=row>Petal.Width</th><td>0</td><td>0</td><td>0</td><td>1</td></tr>\n",
       "</tbody>\n",
       "</table>\n"
      ],
      "text/latex": [
       "\\begin{tabular}{r|llll}\n",
       "  & Sepal.Length & Sepal.Width & Petal.Length & Petal.Width\\\\\n",
       "\\hline\n",
       "\tSepal.Length & 1 & 0 & 0 & 0\\\\\n",
       "\tSepal.Width & 0 & 1 & 0 & 0\\\\\n",
       "\tPetal.Length & 0 & 0 & 1 & 0\\\\\n",
       "\tPetal.Width & 0 & 0 & 0 & 1\\\\\n",
       "\\end{tabular}\n"
      ],
      "text/markdown": [
       "1. 1\n",
       "2. 0\n",
       "3. 0\n",
       "4. 0\n",
       "5. 0\n",
       "6. 1\n",
       "7. 0\n",
       "8. 0\n",
       "9. 0\n",
       "10. 0\n",
       "11. 1\n",
       "12. 0\n",
       "13. 0\n",
       "14. 0\n",
       "15. 0\n",
       "16. 1\n",
       "\n",
       "\n"
      ],
      "text/plain": [
       "             Sepal.Length Sepal.Width Petal.Length Petal.Width\n",
       "Sepal.Length            1           0            0           0\n",
       "Sepal.Width             0           1            0           0\n",
       "Petal.Length            0           0            1           0\n",
       "Petal.Width             0           0            0           1"
      ]
     },
     "execution_count": 36,
     "metadata": {},
     "output_type": "execute_result"
    }
   ],
   "source": [
    "dm <- diag(x = 1, 4)\n",
    "dimnames(dm) <- dimnames(res.cov)\n",
    "dm"
   ]
  },
  {
   "cell_type": "markdown",
   "metadata": {},
   "source": [
    "To **diagonalize** the covariance matrix (i.e. change it so that the off–diagonal elements are close to zero = zero correlation between pairs of distinct variables)), we need to redefine our initial variables.\n",
    "\n",
    "$Sepal.Length'=a_1*Sepal.Length + a_2*Sepal.Width + a_3 * Petal.Length + a_4 * Petal.Width$\n",
    "\n",
    "$Sepal.Width'=b_1*Sepal.Length + b_2*Sepal.Width + b_3 * Petal.Length + b_4 * Petal.Width$\n",
    "\n",
    "$Petal.Length'=c_1*Sepal.Length + c_2*Sepal.Width + c_3 * Petal.Length + c_4 * Petal.Width$\n",
    "\n",
    "$Petal.Width'=d_1*Sepal.Length + d_2*Sepal.Width + d_3 * Petal.Length + d_4 * Petal.Width$\n",
    "\n",
    "Constants $a_i$, $b_i$, $c_i$, $d_i$ will be calculated so that covariance matrix is diagonal.\n",
    "\n",
    "### Eigenvalues, eigenvectors\n",
    "\n",
    "**Eigenvalues** are the numbers on the diagonal of the diagonalized covariance matrix.\n",
    "\n",
    "**Eigenvectors** of the covariance matrix are the directions of the new rotated axes."
   ]
  },
  {
   "cell_type": "code",
   "execution_count": 37,
   "metadata": {
    "collapsed": false
   },
   "outputs": [
    {
     "data": {
      "text/html": [
       "<dl>\n",
       "\t<dt>$values</dt>\n",
       "\t\t<dd><ol class=list-inline>\n",
       "\t<li>4.23220193355026</li>\n",
       "\t<li>0.247740132686093</li>\n",
       "\t<li>0.0772853904876691</li>\n",
       "\t<li>0.0227725432759735</li>\n",
       "</ol>\n",
       "</dd>\n",
       "\t<dt>$vectors</dt>\n",
       "\t\t<dd><table>\n",
       "<tbody>\n",
       "\t<tr><td> 0.3607931</td><td>-0.6665999</td><td>-0.5952227</td><td> 0.2668011</td></tr>\n",
       "\t<tr><td>-0.08416404</td><td>-0.71962541</td><td> 0.61930410</td><td>-0.30251960</td></tr>\n",
       "\t<tr><td> 0.8566357</td><td> 0.1848382</td><td> 0.1011551</td><td>-0.4709328</td></tr>\n",
       "\t<tr><td>0.35905424</td><td>0.06015556</td><td>0.50193627</td><td>0.78455168</td></tr>\n",
       "</tbody>\n",
       "</table>\n",
       "</dd>\n",
       "</dl>\n"
      ],
      "text/latex": [
       "\\begin{description}\n",
       "\\item[\\$values] \\begin{enumerate*}\n",
       "\\item 4.23220193355026\n",
       "\\item 0.247740132686093\n",
       "\\item 0.0772853904876691\n",
       "\\item 0.0227725432759735\n",
       "\\end{enumerate*}\n",
       "\n",
       "\\item[\\$vectors] \\begin{tabular}{llll}\n",
       "\t  0.3607931 & -0.6665999 & -0.5952227 &  0.2668011\\\\\n",
       "\t -0.08416404 & -0.71962541 &  0.61930410 & -0.30251960\\\\\n",
       "\t  0.8566357 &  0.1848382 &  0.1011551 & -0.4709328\\\\\n",
       "\t 0.35905424 & 0.06015556 & 0.50193627 & 0.78455168\\\\\n",
       "\\end{tabular}\n",
       "\n",
       "\\end{description}\n"
      ],
      "text/markdown": [
       "$values\n",
       ":   1. 4.23220193355026\n",
       "2. 0.247740132686093\n",
       "3. 0.0772853904876691\n",
       "4. 0.0227725432759735\n",
       "\n",
       "\n",
       "\n",
       "$vectors\n",
       ":   1. 0.360793137129899\n",
       "2. -0.0841640353590696\n",
       "3. 0.856635735636846\n",
       "4. 0.359054235153914\n",
       "5. -0.666599897137666\n",
       "6. -0.719625414552002\n",
       "7. 0.184838166762205\n",
       "8. 0.0601555647874764\n",
       "9. -0.595222699122553\n",
       "10. 0.619304098573362\n",
       "11. 0.101155075080713\n",
       "12. 0.501936273569578\n",
       "13. 0.266801101544356\n",
       "14. -0.302519604940197\n",
       "15. -0.470932818269572\n",
       "16. 0.784551681865652\n",
       "\n",
       "\n",
       "\n",
       "\n",
       "\n"
      ],
      "text/plain": [
       "$values\n",
       "[1] 4.23220193 0.24774013 0.07728539 0.02277254\n",
       "\n",
       "$vectors\n",
       "            [,1]        [,2]       [,3]       [,4]\n",
       "[1,]  0.36079314 -0.66659990 -0.5952227  0.2668011\n",
       "[2,] -0.08416404 -0.71962541  0.6193041 -0.3025196\n",
       "[3,]  0.85663574  0.18483817  0.1011551 -0.4709328\n",
       "[4,]  0.35905424  0.06015556  0.5019363  0.7845517\n"
      ]
     },
     "execution_count": 37,
     "metadata": {},
     "output_type": "execute_result"
    }
   ],
   "source": [
    "eigen(res.cov)"
   ]
  },
  {
   "cell_type": "markdown",
   "metadata": {},
   "source": [
    "### Compute principal component analysis"
   ]
  },
  {
   "cell_type": "code",
   "execution_count": 38,
   "metadata": {
    "collapsed": false
   },
   "outputs": [
    {
     "data": {
      "text/html": [
       "<table>\n",
       "<thead><tr><th></th><th scope=col>Sepal.Length</th><th scope=col>Sepal.Width</th><th scope=col>Petal.Length</th><th scope=col>Petal.Width</th></tr></thead>\n",
       "<tbody>\n",
       "\t<tr><th scope=row>1</th><td>5.1</td><td>3.5</td><td>1.4</td><td>0.2</td></tr>\n",
       "\t<tr><th scope=row>2</th><td>4.9</td><td>3</td><td>1.4</td><td>0.2</td></tr>\n",
       "\t<tr><th scope=row>3</th><td>4.7</td><td>3.2</td><td>1.3</td><td>0.2</td></tr>\n",
       "\t<tr><th scope=row>4</th><td>4.6</td><td>3.1</td><td>1.5</td><td>0.2</td></tr>\n",
       "\t<tr><th scope=row>5</th><td>5</td><td>3.6</td><td>1.4</td><td>0.2</td></tr>\n",
       "\t<tr><th scope=row>6</th><td>5.4</td><td>3.9</td><td>1.7</td><td>0.4</td></tr>\n",
       "</tbody>\n",
       "</table>\n"
      ],
      "text/latex": [
       "\\begin{tabular}{r|llll}\n",
       "  & Sepal.Length & Sepal.Width & Petal.Length & Petal.Width\\\\\n",
       "\\hline\n",
       "\t1 & 5.1 & 3.5 & 1.4 & 0.2\\\\\n",
       "\t2 & 4.9 & 3 & 1.4 & 0.2\\\\\n",
       "\t3 & 4.7 & 3.2 & 1.3 & 0.2\\\\\n",
       "\t4 & 4.6 & 3.1 & 1.5 & 0.2\\\\\n",
       "\t5 & 5 & 3.6 & 1.4 & 0.2\\\\\n",
       "\t6 & 5.4 & 3.9 & 1.7 & 0.4\\\\\n",
       "\\end{tabular}\n"
      ],
      "text/plain": [
       "  Sepal.Length Sepal.Width Petal.Length Petal.Width\n",
       "1          5.1         3.5          1.4         0.2\n",
       "2          4.9         3.0          1.4         0.2\n",
       "3          4.7         3.2          1.3         0.2\n",
       "4          4.6         3.1          1.5         0.2\n",
       "5          5.0         3.6          1.4         0.2\n",
       "6          5.4         3.9          1.7         0.4"
      ]
     },
     "execution_count": 38,
     "metadata": {},
     "output_type": "execute_result"
    }
   ],
   "source": [
    "head(df)"
   ]
  },
  {
   "cell_type": "markdown",
   "metadata": {},
   "source": [
    "#### 1-Center and scale data"
   ]
  },
  {
   "cell_type": "code",
   "execution_count": 39,
   "metadata": {
    "collapsed": false
   },
   "outputs": [
    {
     "data": {
      "text/html": [
       "<table>\n",
       "<thead><tr><th scope=col>Sepal.Length</th><th scope=col>Sepal.Width</th><th scope=col>Petal.Length</th><th scope=col>Petal.Width</th></tr></thead>\n",
       "<tbody>\n",
       "\t<tr><td>-0.90</td><td> 1.02</td><td>-1.34</td><td>-1.31</td></tr>\n",
       "\t<tr><td>-1.14</td><td>-0.13</td><td>-1.34</td><td>-1.31</td></tr>\n",
       "\t<tr><td>-1.38</td><td> 0.33</td><td>-1.39</td><td>-1.31</td></tr>\n",
       "\t<tr><td>-1.50</td><td> 0.10</td><td>-1.28</td><td>-1.31</td></tr>\n",
       "\t<tr><td>-1.02</td><td> 1.25</td><td>-1.34</td><td>-1.31</td></tr>\n",
       "\t<tr><td>-0.54</td><td> 1.93</td><td>-1.17</td><td>-1.05</td></tr>\n",
       "</tbody>\n",
       "</table>\n"
      ],
      "text/latex": [
       "\\begin{tabular}{llll}\n",
       " Sepal.Length & Sepal.Width & Petal.Length & Petal.Width\\\\\n",
       "\\hline\n",
       "\t -0.90 &  1.02 & -1.34 & -1.31\\\\\n",
       "\t -1.14 & -0.13 & -1.34 & -1.31\\\\\n",
       "\t -1.38 &  0.33 & -1.39 & -1.31\\\\\n",
       "\t -1.50 &  0.10 & -1.28 & -1.31\\\\\n",
       "\t -1.02 &  1.25 & -1.34 & -1.31\\\\\n",
       "\t -0.54 &  1.93 & -1.17 & -1.05\\\\\n",
       "\\end{tabular}\n"
      ],
      "text/markdown": [
       "1. -0.9\n",
       "2. -1.14\n",
       "3. -1.38\n",
       "4. -1.5\n",
       "5. -1.02\n",
       "6. -0.54\n",
       "7. 1.02\n",
       "8. -0.13\n",
       "9. 0.33\n",
       "10. 0.1\n",
       "11. 1.25\n",
       "12. 1.93\n",
       "13. -1.34\n",
       "14. -1.34\n",
       "15. -1.39\n",
       "16. -1.28\n",
       "17. -1.34\n",
       "18. -1.17\n",
       "19. -1.31\n",
       "20. -1.31\n",
       "21. -1.31\n",
       "22. -1.31\n",
       "23. -1.31\n",
       "24. -1.05\n",
       "\n",
       "\n"
      ],
      "text/plain": [
       "     Sepal.Length Sepal.Width Petal.Length Petal.Width\n",
       "[1,]        -0.90        1.02        -1.34       -1.31\n",
       "[2,]        -1.14       -0.13        -1.34       -1.31\n",
       "[3,]        -1.38        0.33        -1.39       -1.31\n",
       "[4,]        -1.50        0.10        -1.28       -1.31\n",
       "[5,]        -1.02        1.25        -1.34       -1.31\n",
       "[6,]        -0.54        1.93        -1.17       -1.05"
      ]
     },
     "execution_count": 39,
     "metadata": {},
     "output_type": "execute_result"
    }
   ],
   "source": [
    "df.scaled <- scale(df, center = TRUE, scale = TRUE)\n",
    "head(round(df.scaled, 2))"
   ]
  },
  {
   "cell_type": "markdown",
   "metadata": {},
   "source": [
    "#### 2-Compute covariance matrix "
   ]
  },
  {
   "cell_type": "code",
   "execution_count": 40,
   "metadata": {
    "collapsed": false
   },
   "outputs": [
    {
     "data": {
      "text/html": [
       "<table>\n",
       "<thead><tr><th></th><th scope=col>Sepal.Length</th><th scope=col>Sepal.Width</th><th scope=col>Petal.Length</th><th scope=col>Petal.Width</th></tr></thead>\n",
       "<tbody>\n",
       "\t<tr><th scope=row>Sepal.Length</th><td> 1.00</td><td>-0.12</td><td> 0.87</td><td> 0.82</td></tr>\n",
       "\t<tr><th scope=row>Sepal.Width</th><td>-0.12</td><td> 1.00</td><td>-0.43</td><td>-0.37</td></tr>\n",
       "\t<tr><th scope=row>Petal.Length</th><td> 0.87</td><td>-0.43</td><td> 1.00</td><td> 0.96</td></tr>\n",
       "\t<tr><th scope=row>Petal.Width</th><td> 0.82</td><td>-0.37</td><td> 0.96</td><td> 1.00</td></tr>\n",
       "</tbody>\n",
       "</table>\n"
      ],
      "text/latex": [
       "\\begin{tabular}{r|llll}\n",
       "  & Sepal.Length & Sepal.Width & Petal.Length & Petal.Width\\\\\n",
       "\\hline\n",
       "\tSepal.Length &  1.00 & -0.12 &  0.87 &  0.82\\\\\n",
       "\tSepal.Width & -0.12 &  1.00 & -0.43 & -0.37\\\\\n",
       "\tPetal.Length &  0.87 & -0.43 &  1.00 &  0.96\\\\\n",
       "\tPetal.Width &  0.82 & -0.37 &  0.96 &  1.00\\\\\n",
       "\\end{tabular}\n"
      ],
      "text/markdown": [
       "1. 1\n",
       "2. -0.12\n",
       "3. 0.87\n",
       "4. 0.82\n",
       "5. -0.12\n",
       "6. 1\n",
       "7. -0.43\n",
       "8. -0.37\n",
       "9. 0.87\n",
       "10. -0.43\n",
       "11. 1\n",
       "12. 0.96\n",
       "13. 0.82\n",
       "14. -0.37\n",
       "15. 0.96\n",
       "16. 1\n",
       "\n",
       "\n"
      ],
      "text/plain": [
       "             Sepal.Length Sepal.Width Petal.Length Petal.Width\n",
       "Sepal.Length         1.00       -0.12         0.87        0.82\n",
       "Sepal.Width         -0.12        1.00        -0.43       -0.37\n",
       "Petal.Length         0.87       -0.43         1.00        0.96\n",
       "Petal.Width          0.82       -0.37         0.96        1.00"
      ]
     },
     "execution_count": 40,
     "metadata": {},
     "output_type": "execute_result"
    }
   ],
   "source": [
    "res.cor <- cor(df.scaled)\n",
    "round(res.cor, 2)"
   ]
  },
  {
   "cell_type": "markdown",
   "metadata": {},
   "source": [
    "*Diagonal values = 1 because of data scaling (step 1).*\n",
    "\n",
    "#### 3-Calculate eigenvectors/eigenvalues of correlation matrix"
   ]
  },
  {
   "cell_type": "code",
   "execution_count": 41,
   "metadata": {
    "collapsed": false
   },
   "outputs": [
    {
     "data": {
      "text/html": [
       "<dl>\n",
       "\t<dt>$values</dt>\n",
       "\t\t<dd><ol class=list-inline>\n",
       "\t<li>2.918497816532</li>\n",
       "\t<li>0.91403047146807</li>\n",
       "\t<li>0.146756875571315</li>\n",
       "\t<li>0.0207148364286192</li>\n",
       "</ol>\n",
       "</dd>\n",
       "\t<dt>$vectors</dt>\n",
       "\t\t<dd><table>\n",
       "<tbody>\n",
       "\t<tr><td> 0.5210659</td><td>-0.3774176</td><td> 0.7195664</td><td> 0.2612863</td></tr>\n",
       "\t<tr><td>-0.2693474</td><td>-0.9232957</td><td>-0.2443818</td><td>-0.1235096</td></tr>\n",
       "\t<tr><td> 0.58041310</td><td>-0.02449161</td><td>-0.14212637</td><td>-0.80144925</td></tr>\n",
       "\t<tr><td> 0.56485654</td><td>-0.06694199</td><td>-0.63427274</td><td> 0.52359713</td></tr>\n",
       "</tbody>\n",
       "</table>\n",
       "</dd>\n",
       "</dl>\n"
      ],
      "text/latex": [
       "\\begin{description}\n",
       "\\item[\\$values] \\begin{enumerate*}\n",
       "\\item 2.918497816532\n",
       "\\item 0.91403047146807\n",
       "\\item 0.146756875571315\n",
       "\\item 0.0207148364286192\n",
       "\\end{enumerate*}\n",
       "\n",
       "\\item[\\$vectors] \\begin{tabular}{llll}\n",
       "\t  0.5210659 & -0.3774176 &  0.7195664 &  0.2612863\\\\\n",
       "\t -0.2693474 & -0.9232957 & -0.2443818 & -0.1235096\\\\\n",
       "\t  0.58041310 & -0.02449161 & -0.14212637 & -0.80144925\\\\\n",
       "\t  0.56485654 & -0.06694199 & -0.63427274 &  0.52359713\\\\\n",
       "\\end{tabular}\n",
       "\n",
       "\\end{description}\n"
      ],
      "text/markdown": [
       "$values\n",
       ":   1. 2.918497816532\n",
       "2. 0.91403047146807\n",
       "3. 0.146756875571315\n",
       "4. 0.0207148364286192\n",
       "\n",
       "\n",
       "\n",
       "$vectors\n",
       ":   1. 0.52106591467012\n",
       "2. -0.269347442505943\n",
       "3. 0.580413095796295\n",
       "4. 0.564856535779362\n",
       "5. -0.377417615564567\n",
       "6. -0.923295659540715\n",
       "7. -0.0244916090855861\n",
       "8. -0.066941986968058\n",
       "9. 0.719566352700817\n",
       "10. -0.2443817795144\n",
       "11. -0.142126369333904\n",
       "12. -0.634272737110923\n",
       "13. 0.261286279952452\n",
       "14. -0.123509619585519\n",
       "15. -0.801449246335988\n",
       "16. 0.523597134566191\n",
       "\n",
       "\n",
       "\n",
       "\n",
       "\n"
      ],
      "text/plain": [
       "$values\n",
       "[1] 2.91849782 0.91403047 0.14675688 0.02071484\n",
       "\n",
       "$vectors\n",
       "           [,1]        [,2]       [,3]       [,4]\n",
       "[1,]  0.5210659 -0.37741762  0.7195664  0.2612863\n",
       "[2,] -0.2693474 -0.92329566 -0.2443818 -0.1235096\n",
       "[3,]  0.5804131 -0.02449161 -0.1421264 -0.8014492\n",
       "[4,]  0.5648565 -0.06694199 -0.6342727  0.5235971\n"
      ]
     },
     "execution_count": 41,
     "metadata": {},
     "output_type": "execute_result"
    }
   ],
   "source": [
    "(res.eig <- eigen(res.cor))"
   ]
  },
  {
   "cell_type": "markdown",
   "metadata": {},
   "source": [
    "Eigenvalues are in decreasing order."
   ]
  },
  {
   "cell_type": "markdown",
   "metadata": {},
   "source": [
    "#### 4-Compute new dataset"
   ]
  },
  {
   "cell_type": "code",
   "execution_count": 42,
   "metadata": {
    "collapsed": false
   },
   "outputs": [
    {
     "data": {
      "text/html": [
       "<table>\n",
       "<thead><tr><th scope=col>PC1</th><th scope=col>PC2</th><th scope=col>PC3</th><th scope=col>PC4</th></tr></thead>\n",
       "<tbody>\n",
       "\t<tr><td>-2.25714118</td><td>-0.47842383</td><td> 0.12727962</td><td> 0.02408751</td></tr>\n",
       "\t<tr><td>-2.0740130</td><td> 0.6718827</td><td> 0.2338255</td><td> 0.1026628</td></tr>\n",
       "\t<tr><td>-2.35633511</td><td> 0.34076642</td><td>-0.04405390</td><td> 0.02828231</td></tr>\n",
       "\t<tr><td>-2.29170679</td><td> 0.59539986</td><td>-0.09098530</td><td>-0.06573534</td></tr>\n",
       "\t<tr><td>-2.38186270</td><td>-0.64467566</td><td>-0.01568565</td><td>-0.03580287</td></tr>\n",
       "\t<tr><td>-2.068700608</td><td>-1.484205297</td><td>-0.026878250</td><td> 0.006586116</td></tr>\n",
       "</tbody>\n",
       "</table>\n"
      ],
      "text/latex": [
       "\\begin{tabular}{llll}\n",
       " PC1 & PC2 & PC3 & PC4\\\\\n",
       "\\hline\n",
       "\t -2.25714118 & -0.47842383 &  0.12727962 &  0.02408751\\\\\n",
       "\t -2.0740130 &  0.6718827 &  0.2338255 &  0.1026628\\\\\n",
       "\t -2.35633511 &  0.34076642 & -0.04405390 &  0.02828231\\\\\n",
       "\t -2.29170679 &  0.59539986 & -0.09098530 & -0.06573534\\\\\n",
       "\t -2.38186270 & -0.64467566 & -0.01568565 & -0.03580287\\\\\n",
       "\t -2.068700608 & -1.484205297 & -0.026878250 &  0.006586116\\\\\n",
       "\\end{tabular}\n"
      ],
      "text/markdown": [
       "1. -2.25714117564812\n",
       "2. -2.07401301519962\n",
       "3. -2.35633511180618\n",
       "4. -2.2917067858697\n",
       "5. -2.38186270441694\n",
       "6. -2.06870060846769\n",
       "7. -0.478423832124901\n",
       "8. 0.67188268702736\n",
       "9. 0.340766424624569\n",
       "10. 0.595399862681543\n",
       "11. -0.644675659400539\n",
       "12. -1.48420529734216\n",
       "13. 0.127279623706423\n",
       "14. 0.233825516725968\n",
       "15. -0.0440539001701712\n",
       "16. -0.0909852971013886\n",
       "17. -0.0156856472969167\n",
       "18. -0.0268782497996217\n",
       "19. 0.0240875084587278\n",
       "20. 0.10266284468034\n",
       "21. 0.0282823050822731\n",
       "22. -0.0657353400647873\n",
       "23. -0.0358028703427428\n",
       "24. 0.00658611611677007\n",
       "\n",
       "\n"
      ],
      "text/plain": [
       "           PC1        PC2         PC3          PC4\n",
       "[1,] -2.257141 -0.4784238  0.12727962  0.024087508\n",
       "[2,] -2.074013  0.6718827  0.23382552  0.102662845\n",
       "[3,] -2.356335  0.3407664 -0.04405390  0.028282305\n",
       "[4,] -2.291707  0.5953999 -0.09098530 -0.065735340\n",
       "[5,] -2.381863 -0.6446757 -0.01568565 -0.035802870\n",
       "[6,] -2.068701 -1.4842053 -0.02687825  0.006586116"
      ]
     },
     "execution_count": 42,
     "metadata": {},
     "output_type": "execute_result"
    }
   ],
   "source": [
    "df.new <- df.scaled %*% res.eig$vectors\n",
    "colnames(df.new) <- c(\"PC1\", \"PC2\", \"PC3\", \"PC4\")\n",
    "head(df.new)"
   ]
  },
  {
   "cell_type": "markdown",
   "metadata": {},
   "source": [
    "## prcomp() versus princomp()\n",
    "http://www.sthda.com/english/wiki/principal-component-analysis-in-r-prcomp-vs-princomp-r-software-and-data-mining"
   ]
  },
  {
   "cell_type": "code",
   "execution_count": null,
   "metadata": {
    "collapsed": true
   },
   "outputs": [],
   "source": []
  }
 ],
 "metadata": {
  "kernelspec": {
   "display_name": "R",
   "language": "R",
   "name": "ir"
  },
  "language_info": {
   "codemirror_mode": "r",
   "file_extension": ".r",
   "mimetype": "text/x-r-source",
   "name": "R",
   "pygments_lexer": "r",
   "version": "3.2.2"
  }
 },
 "nbformat": 4,
 "nbformat_minor": 0
}
